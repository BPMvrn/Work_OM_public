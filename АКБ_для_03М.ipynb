{
  "nbformat": 4,
  "nbformat_minor": 0,
  "metadata": {
    "colab": {
      "name": "АКБ_для_03М.ipynb",
      "provenance": [],
      "mount_file_id": "1V3pTvmVZgEZQkCfei-H4wigsqK-TRdR7",
      "authorship_tag": "ABX9TyMYcsp88Ga/1RibGR8Sh5b6",
      "include_colab_link": true
    },
    "kernelspec": {
      "name": "python3",
      "display_name": "Python 3"
    },
    "language_info": {
      "name": "python"
    }
  },
  "cells": [
    {
      "cell_type": "markdown",
      "metadata": {
        "id": "view-in-github",
        "colab_type": "text"
      },
      "source": [
        "<a href=\"https://colab.research.google.com/github/BPMvrn/Work_OM_public/blob/main/%D0%90%D0%9A%D0%91_%D0%B4%D0%BB%D1%8F_03%D0%9C.ipynb\" target=\"_parent\"><img src=\"https://colab.research.google.com/assets/colab-badge.svg\" alt=\"Open In Colab\"/></a>"
      ]
    },
    {
      "cell_type": "code",
      "execution_count": null,
      "metadata": {
        "id": "sIo57Qs5Lu7-"
      },
      "outputs": [],
      "source": [
        "import pandas as pd"
      ]
    },
    {
      "cell_type": "code",
      "source": [
        "akb1= pd.read_excel('/content/drive/MyDrive/work/АКБ.xlsx', sheet_name='акб')"
      ],
      "metadata": {
        "id": "8xkX0RvSL5n0"
      },
      "execution_count": null,
      "outputs": []
    },
    {
      "cell_type": "code",
      "source": [
        "akb_start = akb1"
      ],
      "metadata": {
        "id": "UyZ18Ig_MJVT"
      },
      "execution_count": null,
      "outputs": []
    },
    {
      "cell_type": "code",
      "source": [
        "akb_start.columns = (['year', 'month', 'status2', 'gov', 'ЛПР',\n",
        "       'Вид', 'Неиспользуемый', 'Не_определен',\n",
        "       'потенциальный_NEW', 'потенциальный_OLD', 'потерянный_NEW',\n",
        "       'потерянный_OLD', 'реальный_1', 'реальный_NEW', 'реальный_OLD-',\n",
        "       'реальный_OLD+', 'Total'])"
      ],
      "metadata": {
        "id": "MWaduCPEMMxy"
      },
      "execution_count": null,
      "outputs": []
    },
    {
      "cell_type": "code",
      "source": [
        "akb_start.fillna(0, inplace=True)"
      ],
      "metadata": {
        "id": "ZxodmxyTMda6"
      },
      "execution_count": null,
      "outputs": []
    },
    {
      "cell_type": "code",
      "source": [
        "akb01 = akb_start\\\n",
        "        .groupby(['year', 'month', 'ЛПР', 'Вид', 'Неиспользуемый'], as_index=False)\\\n",
        "        .agg({'потенциальный_NEW':'sum', 'потенциальный_OLD':'sum', 'потерянный_NEW':'sum', 'потерянный_OLD':'sum', 'реальный_1':'sum', 'реальный_NEW':'sum', 'реальный_OLD-':'sum', 'реальный_OLD+':'sum', 'Total':'sum'})\n",
        "akb01['срез'] = '01. ОКТ'\n",
        "\n",
        "akb0204 = akb_start\\\n",
        "        .replace({'status2':{'Крупный': '02. КБ', \n",
        "                             'VIP': '02. КБ', \n",
        "                             'Ключевой': '02. КБ', \n",
        "                             'Не определен': '02. КБ', \n",
        "                             'Стратегический': '03. ПРЦ', \n",
        "                             'Мелкий': '04. СМБ', \n",
        "                             'Средний': '04. СМБ',}})\\\n",
        "        .groupby(['year', 'month', 'status2', 'ЛПР', 'Вид', 'Неиспользуемый'], as_index=False)\\\n",
        "        .agg({'потенциальный_NEW':'sum', 'потенциальный_OLD':'sum', 'потерянный_NEW':'sum', 'потерянный_OLD':'sum', 'реальный_1':'sum', 'реальный_NEW':'sum', 'реальный_OLD-':'sum', 'реальный_OLD+':'sum', 'Total':'sum'})\\\n",
        "        .rename(columns={\"status2\":\"срез\"})\n",
        "\n",
        "akb05 =  akb_start[akb_start['gov'] == 1]\\\n",
        "        .replace({'gov':{ 1: '05. Госсектор'}})\\\n",
        "        .groupby(['year', 'month', 'gov', 'ЛПР', 'Вид', 'Неиспользуемый'], as_index=False)\\\n",
        "        .agg({'потенциальный_NEW':'sum', 'потенциальный_OLD':'sum', 'потерянный_NEW':'sum', 'потерянный_OLD':'sum', 'реальный_1':'sum', 'реальный_NEW':'sum', 'реальный_OLD-':'sum', 'реальный_OLD+':'sum', 'Total':'sum'})\\\n",
        "        .rename(columns={\"gov\":\"срез\"})\n",
        "\n",
        "akb0910 =  akb_start[(akb_start['status2'] == 'Крупный') |\n",
        "                     (akb_start['status2'] == 'VIP') |\n",
        "                     (akb_start['status2'] == 'Ключевой')]\\\n",
        "        .replace({'status2':{ 'Крупный': '09. ОКБ КБ', \n",
        "                             'VIP': '10. Vip&Key', \n",
        "                             'Ключевой': '10. Vip&Key'}})\\\n",
        "        .groupby(['year', 'month', 'status2', 'ЛПР', 'Вид', 'Неиспользуемый'], as_index=False)\\\n",
        "        .agg({'потенциальный_NEW':'sum', 'потенциальный_OLD':'sum', 'потерянный_NEW':'sum', 'потерянный_OLD':'sum', 'реальный_1':'sum', 'реальный_NEW':'sum', 'реальный_OLD-':'sum', 'реальный_OLD+':'sum', 'Total':'sum'})\\\n",
        "        .rename(columns={\"status2\":\"срез\"})\n",
        "\n",
        "akb = pd.concat([akb01, akb0204, akb05, akb0910], axis=0, ignore_index=True)\n",
        "akb.replace({'ЛПР':{ 1: 'не ЛПР', \n",
        "                     0: 'ЛПР'},\n",
        "             'Неиспользуемый':{ 0: 'Нет', \n",
        "                                 1: 'Да'}},  inplace=True)\n",
        "\n",
        "akb['all_real']=akb['реальный_1']+akb['реальный_NEW']+akb['реальный_OLD-']+akb['реальный_OLD+']\n",
        "akb['all_lost']=akb['потерянный_NEW']+akb['потерянный_OLD']\n",
        "akb['all_lid'] =akb['потенциальный_NEW']+akb['потенциальный_OLD']"
      ],
      "metadata": {
        "id": "Y8AeQGU9M-FD"
      },
      "execution_count": null,
      "outputs": []
    },
    {
      "cell_type": "code",
      "source": [
        "akb.to_excel('/content/drive/MyDrive/work/akb.xlsx', index=False)"
      ],
      "metadata": {
        "id": "jEnFhfzoZSM1"
      },
      "execution_count": null,
      "outputs": []
    },
    {
      "cell_type": "code",
      "source": [
        ""
      ],
      "metadata": {
        "id": "owczfd46A2tz"
      },
      "execution_count": null,
      "outputs": []
    }
  ]
}